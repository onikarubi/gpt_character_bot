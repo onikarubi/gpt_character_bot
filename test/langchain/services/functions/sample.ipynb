{
 "cells": [
  {
   "cell_type": "code",
   "execution_count": 12,
   "metadata": {},
   "outputs": [],
   "source": [
    "import os\n",
    "from langchain.chat_models import ChatOpenAI\n",
    "from langchain.agents import initialize_agent, Tool, AgentType\n",
    "from langchain.agents.tools import BaseTool\n",
    "from langchain.prompts import MessagesPlaceholder\n",
    "from langchain.memory import ConversationBufferMemory\n",
    "from pydantic import BaseModel, Field\n",
    "import json\n",
    "\n",
    "class GreetingCheckPointInput(BaseModel):\n",
    "    name: str = Field(..., description='username')"
   ]
  },
  {
   "cell_type": "code",
   "execution_count": 13,
   "metadata": {},
   "outputs": [],
   "source": [
    "\n",
    "from typing import Optional, Type\n",
    "\n",
    "\n",
    "llm = ChatOpenAI(model='gpt-3.5-turbo-0613')\n",
    "\n",
    "def greeting_hello(name):\n",
    "    return f'Hello {name}'\n",
    "\n",
    "class GreetingHello(BaseTool):\n",
    "    name = 'greeting_hello'\n",
    "    description = \"The name of the person to greet\"\n",
    "\n",
    "    def _run(self, name):\n",
    "        result = greeting_hello(name)\n",
    "        return result\n",
    "\n",
    "    def _arun(self, name):\n",
    "        raise NotImplementedError(\"This tool does not support async\")\n",
    "\n",
    "    args_schema: Optional[Type[BaseModel]] = GreetingCheckPointInput\n",
    "\n"
   ]
  },
  {
   "cell_type": "code",
   "execution_count": 3,
   "metadata": {},
   "outputs": [
    {
     "name": "stdout",
     "output_type": "stream",
     "text": [
      "Name: langchain\n",
      "Version: 0.0.205\n",
      "Summary: Building applications with LLMs through composability\n",
      "Home-page: https://www.github.com/hwchase17/langchain\n",
      "Author: \n",
      "Author-email: \n",
      "License: MIT\n",
      "Location: /Users/takeuchitsubasa/.pyenv/versions/3.10.8/lib/python3.10/site-packages\n",
      "Requires: aiohttp, async-timeout, dataclasses-json, langchainplus-sdk, numexpr, numpy, openapi-schema-pydantic, pydantic, PyYAML, requests, SQLAlchemy, tenacity\n",
      "Required-by: \n"
     ]
    }
   ],
   "source": [
    "!pip show langchain"
   ]
  },
  {
   "cell_type": "code",
   "execution_count": 14,
   "metadata": {},
   "outputs": [],
   "source": [
    "from langchain.tools import format_tool_to_openai_function\n",
    "\n",
    "tools = [GreetingHello()]\n",
    "functions = [format_tool_to_openai_function(t) for t in tools]"
   ]
  },
  {
   "cell_type": "code",
   "execution_count": 15,
   "metadata": {},
   "outputs": [
    {
     "data": {
      "text/plain": [
       "{'name': 'greeting_hello',\n",
       " 'description': 'The name of the person to greet',\n",
       " 'parameters': {'title': 'GreetingCheckPointInput',\n",
       "  'type': 'object',\n",
       "  'properties': {'name': {'title': 'Name',\n",
       "    'description': 'username',\n",
       "    'type': 'string'}},\n",
       "  'required': ['name']}}"
      ]
     },
     "execution_count": 15,
     "metadata": {},
     "output_type": "execute_result"
    }
   ],
   "source": [
    "functions[0]"
   ]
  },
  {
   "cell_type": "code",
   "execution_count": 17,
   "metadata": {},
   "outputs": [],
   "source": [
    "from langchain.schema import HumanMessage, AIMessage\n",
    "\n",
    "ai_message = llm.predict_messages([HumanMessage(content='挨拶をしてくれますか？')], functions=functions)"
   ]
  },
  {
   "cell_type": "code",
   "execution_count": 18,
   "metadata": {},
   "outputs": [
    {
     "data": {
      "text/plain": [
       "AIMessage(content='', additional_kwargs={'function_call': {'name': 'greeting_hello', 'arguments': '{\\n  \"name\": \"ユーザー\"\\n}'}}, example=False)"
      ]
     },
     "execution_count": 18,
     "metadata": {},
     "output_type": "execute_result"
    }
   ],
   "source": [
    "ai_message"
   ]
  },
  {
   "cell_type": "code",
   "execution_count": 8,
   "metadata": {},
   "outputs": [
    {
     "data": {
      "text/plain": [
       "{'name': 'greeting_hello', 'arguments': '{\\n  \"__arg1\": \"こんにちは\"\\n}'}"
      ]
     },
     "execution_count": 8,
     "metadata": {},
     "output_type": "execute_result"
    }
   ],
   "source": [
    "ai_message.additional_kwargs['function_call']"
   ]
  },
  {
   "cell_type": "code",
   "execution_count": 19,
   "metadata": {},
   "outputs": [],
   "source": [
    "from langchain.schema import FunctionMessage\n",
    "\n",
    "final_message = llm.predict_messages(\n",
    "    [\n",
    "        HumanMessage(content='挨拶をしてくれますか？'),\n",
    "        ai_message,\n",
    "        FunctionMessage(name='greeting_hello', content='Hello')\n",
    "    ],\n",
    "    functions=functions\n",
    ")"
   ]
  },
  {
   "cell_type": "code",
   "execution_count": 20,
   "metadata": {},
   "outputs": [
    {
     "data": {
      "text/plain": [
       "AIMessage(content='こんにちは、ユーザーさん！どのようなお手伝いができますか？', additional_kwargs={}, example=False)"
      ]
     },
     "execution_count": 20,
     "metadata": {},
     "output_type": "execute_result"
    }
   ],
   "source": [
    "final_message"
   ]
  },
  {
   "cell_type": "code",
   "execution_count": 11,
   "metadata": {},
   "outputs": [
    {
     "data": {
      "text/plain": [
       "{'__arg1': 'こんにちは'}"
      ]
     },
     "execution_count": 11,
     "metadata": {},
     "output_type": "execute_result"
    }
   ],
   "source": [
    "_args = json.loads(ai_message.additional_kwargs['function_call'].get('arguments'))\n",
    "_args"
   ]
  },
  {
   "cell_type": "code",
   "execution_count": 23,
   "metadata": {},
   "outputs": [],
   "source": [
    "def get_current_weather(location, unit):\n",
    "    weather_info = {\n",
    "            \"location\": location,\n",
    "            \"temperature\": \"72\",\n",
    "            \"unit\": unit,\n",
    "            \"forecast\": [\"sunny\", \"windy\"],\n",
    "        }\n",
    "\n",
    "    return json.dumps(weather_info)\n",
    "\n",
    "class GetCurrentWeatherCheckInput(BaseModel):\n",
    "    location: str = Field(..., description='city_and_state')\n",
    "    unit: str = Field(..., description='sample')\n",
    "\n",
    "class GetCurrentWeatherTool(BaseTool):\n",
    "    name = 'get_current_weather'\n",
    "    description = 'Specified location current weather acquisition.'\n",
    "\n",
    "    def _run(self, location: str, unit: str):\n",
    "        weather_info = {\n",
    "            \"location\": location,\n",
    "            \"temperature\": \"72\",\n",
    "            \"unit\": unit,\n",
    "            \"forecast\": [\"sunny\", \"windy\"],\n",
    "        }\n",
    "\n",
    "        return json.dumps(weather_info)\n",
    "\n",
    "    def _arun(self, location: str, unit: str):\n",
    "        raise NotImplementedError(\"This tool does not support async\")\n",
    "\n",
    "    args_schema: Optional[Type[BaseModel]] = GetCurrentWeatherCheckInput"
   ]
  },
  {
   "cell_type": "code",
   "execution_count": 24,
   "metadata": {},
   "outputs": [
    {
     "data": {
      "text/plain": [
       "{'name': 'get_current_weather',\n",
       " 'description': 'Specified location current weather acquisition.',\n",
       " 'parameters': {'title': 'GetCurrentWeatherCheckInput',\n",
       "  'type': 'object',\n",
       "  'properties': {'location': {'title': 'Location',\n",
       "    'description': 'city_and_state',\n",
       "    'type': 'string'},\n",
       "   'unit': {'title': 'Unit', 'description': 'sample', 'type': 'string'}},\n",
       "  'required': ['location', 'unit']}}"
      ]
     },
     "execution_count": 24,
     "metadata": {},
     "output_type": "execute_result"
    }
   ],
   "source": [
    "tools = [GetCurrentWeatherTool()]\n",
    "functions = [format_tool_to_openai_function(t) for t in tools]\n",
    "functions[0]"
   ]
  },
  {
   "cell_type": "code",
   "execution_count": null,
   "metadata": {},
   "outputs": [],
   "source": []
  }
 ],
 "metadata": {
  "kernelspec": {
   "display_name": "Python 3",
   "language": "python",
   "name": "python3"
  },
  "language_info": {
   "codemirror_mode": {
    "name": "ipython",
    "version": 3
   },
   "file_extension": ".py",
   "mimetype": "text/x-python",
   "name": "python",
   "nbconvert_exporter": "python",
   "pygments_lexer": "ipython3",
   "version": "3.10.8"
  },
  "orig_nbformat": 4
 },
 "nbformat": 4,
 "nbformat_minor": 2
}
